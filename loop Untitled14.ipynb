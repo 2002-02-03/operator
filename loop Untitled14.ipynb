{
  "nbformat": 4,
  "nbformat_minor": 0,
  "metadata": {
    "colab": {
      "provenance": [],
      "authorship_tag": "ABX9TyPn7A2natcen7wZKugp5pmp",
      "include_colab_link": true
    },
    "kernelspec": {
      "name": "python3",
      "display_name": "Python 3"
    },
    "language_info": {
      "name": "python"
    }
  },
  "cells": [
    {
      "cell_type": "markdown",
      "metadata": {
        "id": "view-in-github",
        "colab_type": "text"
      },
      "source": [
        "<a href=\"https://colab.research.google.com/github/2002-02-03/operator/blob/main/loop%20Untitled14.ipynb\" target=\"_parent\"><img src=\"https://colab.research.google.com/assets/colab-badge.svg\" alt=\"Open In Colab\"/></a>"
      ]
    },
    {
      "cell_type": "code",
      "execution_count": null,
      "metadata": {
        "colab": {
          "base_uri": "https://localhost:8080/"
        },
        "id": "EHGD_vZqGVtr",
        "outputId": "32471333-20ec-4ac4-a0a1-a776fa69a12b"
      },
      "outputs": [
        {
          "output_type": "stream",
          "name": "stdout",
          "text": [
            "1\n",
            "2\n",
            "3\n",
            "4\n",
            "5\n"
          ]
        }
      ],
      "source": [
        "#q1 Print number from 1 to 5 using a while loop.\n",
        "\n",
        "i = 1\n",
        "while(i<=5):\n",
        "  print(i)\n",
        "  i = i+1"
      ]
    },
    {
      "cell_type": "code",
      "source": [
        "# q2 Calclate the sum of number from 1 to 10 using a while loop.\n",
        "i =1\n",
        "while (i<=10):\n",
        "  print(i+(i+1))\n",
        "  i = i+1\n",
        "\n"
      ],
      "metadata": {
        "colab": {
          "base_uri": "https://localhost:8080/"
        },
        "id": "jWtLjSSKIFO_",
        "outputId": "5433b263-d322-4e14-a5c8-19a27ea4b3fe"
      },
      "execution_count": null,
      "outputs": [
        {
          "output_type": "stream",
          "name": "stdout",
          "text": [
            "3\n",
            "5\n",
            "7\n",
            "9\n",
            "11\n",
            "13\n",
            "15\n",
            "17\n",
            "19\n",
            "21\n"
          ]
        }
      ]
    },
    {
      "cell_type": "code",
      "source": [
        "#q3 1Cal1clate the factorial of a number using a for loop.\n",
        "\n",
        "num = int(input(\"enter the number : \"))\n",
        "f = 1\n",
        "for i in range(num,0,-1):\n",
        "  f *= i\n",
        "print(f)"
      ],
      "metadata": {
        "colab": {
          "base_uri": "https://localhost:8080/"
        },
        "id": "zaEJRxQYIvZJ",
        "outputId": "1866caf3-6088-4558-a345-d2044069eaff"
      },
      "execution_count": null,
      "outputs": [
        {
          "output_type": "stream",
          "name": "stdout",
          "text": [
            "enter the number : 5\n",
            "120\n"
          ]
        }
      ]
    },
    {
      "cell_type": "code",
      "source": [
        "#q4 Count the number of vowel in a string using a for loop.\n",
        "\n",
        "string = \"ramjane\"\n",
        "vowels = \"aeiouAEIOU\"\n",
        "\n",
        "count = sum(string.count(vowel) for vowel in vowels)\n",
        "print(count)"
      ],
      "metadata": {
        "colab": {
          "base_uri": "https://localhost:8080/"
        },
        "id": "17nXYG5XQN6Q",
        "outputId": "d7ff29ed-fd92-4218-da6d-1ddb6af3b6d1"
      },
      "execution_count": null,
      "outputs": [
        {
          "output_type": "stream",
          "name": "stdout",
          "text": [
            "3\n"
          ]
        }
      ]
    },
    {
      "cell_type": "code",
      "source": [
        "#q5  Print a pattern using neted loop.\n",
        "\n",
        "rows = 6\n",
        "for i in range(rows):\n",
        "    for j in range(i):\n",
        "        print(i, end=' ')\n",
        "    print('')"
      ],
      "metadata": {
        "colab": {
          "base_uri": "https://localhost:8080/"
        },
        "id": "KaOK6S4ewcQS",
        "outputId": "9a3be237-0900-4d2e-c20b-07643195e5cc"
      },
      "execution_count": 1,
      "outputs": [
        {
          "output_type": "stream",
          "name": "stdout",
          "text": [
            "\n",
            "1 \n",
            "2 2 \n",
            "3 3 3 \n",
            "4 4 4 4 \n",
            "5 5 5 5 5 \n"
          ]
        }
      ]
    },
    {
      "cell_type": "code",
      "source": [
        "#q6 Generate a mltiplication table using neted loop.\n",
        "\n",
        "num = int(input(\"enter the number\"))\n",
        "\n",
        "colum = 10\n",
        "for i in range(1 , num+1):\n",
        "  for j in range(1,colum+1):\n",
        "    print(i*j)\n",
        "\n",
        "\n"
      ],
      "metadata": {
        "colab": {
          "base_uri": "https://localhost:8080/"
        },
        "id": "3id8nDDVxvi-",
        "outputId": "44405378-f6ff-47d0-ddd9-c495427b4f3c"
      },
      "execution_count": 8,
      "outputs": [
        {
          "output_type": "stream",
          "name": "stdout",
          "text": [
            "enter the number5\n",
            "1\n",
            "2\n",
            "3\n",
            "4\n",
            "5\n",
            "6\n",
            "7\n",
            "8\n",
            "9\n",
            "10\n",
            "2\n",
            "4\n",
            "6\n",
            "8\n",
            "10\n",
            "12\n",
            "14\n",
            "16\n",
            "18\n",
            "20\n",
            "3\n",
            "6\n",
            "9\n",
            "12\n",
            "15\n",
            "18\n",
            "21\n",
            "24\n",
            "27\n",
            "30\n",
            "4\n",
            "8\n",
            "12\n",
            "16\n",
            "20\n",
            "24\n",
            "28\n",
            "32\n",
            "36\n",
            "40\n",
            "5\n",
            "10\n",
            "15\n",
            "20\n",
            "25\n",
            "30\n",
            "35\n",
            "40\n",
            "45\n",
            "50\n"
          ]
        }
      ]
    },
    {
      "cell_type": "code",
      "source": [],
      "metadata": {
        "id": "AzhHGcG7K0sg"
      },
      "execution_count": null,
      "outputs": []
    }
  ]
}