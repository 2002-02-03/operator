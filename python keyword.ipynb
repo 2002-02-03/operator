{
  "nbformat": 4,
  "nbformat_minor": 0,
  "metadata": {
    "colab": {
      "provenance": [],
      "authorship_tag": "ABX9TyNMRDzi+sMbIDK98cI4nEWi",
      "include_colab_link": true
    },
    "kernelspec": {
      "name": "python3",
      "display_name": "Python 3"
    },
    "language_info": {
      "name": "python"
    }
  },
  "cells": [
    {
      "cell_type": "markdown",
      "metadata": {
        "id": "view-in-github",
        "colab_type": "text"
      },
      "source": [
        "<a href=\"https://colab.research.google.com/github/2002-02-03/operator/blob/main/python%20keyword.ipynb\" target=\"_parent\"><img src=\"https://colab.research.google.com/assets/colab-badge.svg\" alt=\"Open In Colab\"/></a>"
      ]
    },
    {
      "cell_type": "markdown",
      "source": [],
      "metadata": {
        "id": "2hltf-ScycKe"
      }
    },
    {
      "cell_type": "code",
      "execution_count": null,
      "metadata": {
        "id": "zdsnYLWlxp2w"
      },
      "outputs": [],
      "source": [
        " q1 Explain the significance of Python keywords and provide examples of five keywords\n",
        "\n",
        "ans - It is limited to one single function and it can not be set as a variable name, a function name, or the value of any other identifier.\n",
        "      Example:- True , False, if, elif, Break"
      ]
    },
    {
      "cell_type": "markdown",
      "source": [],
      "metadata": {
        "id": "hd4VNxKLyfsf"
      }
    },
    {
      "cell_type": "markdown",
      "source": [
        "q2 Describe the rules for defining identifiers in Python and provide an example\n",
        "\n",
        "ans:- (1) Identifiers cannot be a keyword.\n",
        "    (2) Identifiers are case-sensitive.\n",
        "    (3) It can have a sequence of letters and digits. ...\n",
        "    (4) It's a convention to start an identifier with a letter rather _ .\n",
        "        Whitespaces are not allowed.  \n",
        "\n",
        "      example :- yourname, joy_enjoy, sub1, _ramajee"
      ],
      "metadata": {
        "id": "qjehW6f0ykPQ"
      }
    },
    {
      "cell_type": "markdown",
      "source": [
        "q3   What are comments in Python, and why are they useful? Provide an example?\n",
        " Ans:- Comments are the programmer's notes that provide clarity about the code\n",
        "       but are ignored by the Python interpreter.\n",
        "       representing the comment we are using # symbol\n",
        "\n",
        "       Example :- #this is a comment\n",
        "       "
      ],
      "metadata": {
        "id": "QiIg-XIc0ZP6"
      }
    },
    {
      "cell_type": "markdown",
      "source": [
        "q4 Why is proper indentation important in Python?\n",
        "           Ans :- Python uses indentation to indicate the scope of code blocks such as\n",
        "       functions, loops, conditionals, classes, etc."
      ],
      "metadata": {
        "id": "mXxDNFtN20as"
      }
    },
    {
      "cell_type": "markdown",
      "source": [
        "q5  What happens if indentation is incorrect in Python?\n",
        "\n",
        "Ans :- The error message indicates the line number and nature of the error."
      ],
      "metadata": {
        "id": "qrZGUuUo3e1S"
      }
    },
    {
      "cell_type": "markdown",
      "source": [
        "q6 Differentiate between expression and statement in Python with examples\n",
        "\n",
        "Ans:- A statement in Python is used for creating variables or for displaying\n",
        "      values. The expression in Python produces some value or result after being interpreted by the Python interpreter"
      ],
      "metadata": {
        "id": "sfT2yVec4i0x"
      }
    }
  ]
}