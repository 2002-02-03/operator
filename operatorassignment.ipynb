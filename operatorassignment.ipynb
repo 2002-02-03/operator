{
  "nbformat": 4,
  "nbformat_minor": 0,
  "metadata": {
    "colab": {
      "provenance": [],
      "authorship_tag": "ABX9TyPmg+OOycdEhrdUmAc55luQ",
      "include_colab_link": true
    },
    "kernelspec": {
      "name": "python3",
      "display_name": "Python 3"
    },
    "language_info": {
      "name": "python"
    }
  },
  "cells": [
    {
      "cell_type": "markdown",
      "metadata": {
        "id": "view-in-github",
        "colab_type": "text"
      },
      "source": [
        "<a href=\"https://colab.research.google.com/github/2002-02-03/operator/blob/main/operatorassignment.ipynb\" target=\"_parent\"><img src=\"https://colab.research.google.com/assets/colab-badge.svg\" alt=\"Open In Colab\"/></a>"
      ]
    },
    {
      "cell_type": "code",
      "execution_count": null,
      "metadata": {
        "colab": {
          "base_uri": "https://localhost:8080/"
        },
        "id": "Q_R-uruU2YnG",
        "outputId": "d651fcc6-5b51-456c-a396-d0a2572322ab"
      },
      "outputs": [
        {
          "output_type": "stream",
          "name": "stdout",
          "text": [
            "enter the first number12\n",
            "enter the second number5\n",
            "17\n",
            "7\n",
            "60\n",
            "2.4\n"
          ]
        }
      ],
      "source": [
        "#q1 Calculate the sum, difference, product, and quotient of two numbers.\n",
        "\n",
        "num1 = int(input(\"enter the first number\"))\n",
        "num2 = int(input(\"enter the second number\"))\n",
        "sum = num1+num2\n",
        "difference = num1-num2\n",
        "product = num1*num2\n",
        "quotient = num1/num2\n",
        "print(sum)\n",
        "print(difference)\n",
        "print(product)\n",
        "print(quotient)"
      ]
    },
    {
      "cell_type": "code",
      "source": [
        "#q2 Perform various assignment operations on a variable.\n",
        "\n",
        "num1 = int(input(\"enter the first number =\"))\n",
        "num2 = int(input(\"enter the second number =\"))\n",
        "sum = num1+num2\n",
        "difference = num1-num2\n",
        "product = num1*num2\n",
        "div = num1/num2\n",
        "mod = num1%num2\n",
        "floor_div = num1//num2\n",
        "expo = num1**num2\n",
        "print(sum)\n",
        "print(difference)\n",
        "print(product)\n",
        "print(div)\n",
        "print(mod)\n",
        "print(floor_div)\n",
        "print(expo)"
      ],
      "metadata": {
        "colab": {
          "base_uri": "https://localhost:8080/"
        },
        "id": "GpSvED6L31It",
        "outputId": "1d6432ae-f254-4ac1-cb2d-2388c034e475"
      },
      "execution_count": null,
      "outputs": [
        {
          "output_type": "stream",
          "name": "stdout",
          "text": [
            "enter the first number =15\n",
            "enter the second number =10\n",
            "25\n",
            "5\n",
            "150\n",
            "1.5\n",
            "5\n",
            "1\n",
            "576650390625\n"
          ]
        }
      ]
    },
    {
      "cell_type": "code",
      "source": [
        "#q3 Compare two numbers and print the results.\n",
        "num1 = int(input(\"enter the first number =\"))\n",
        "num2 = int(input(\"enter the second number =\"))\n",
        "if num1 == num2:\n",
        "  print(\"both number are equal to\")\n",
        "else:\n",
        "  print(\"not equal to\")\n",
        "if num1>num2:\n",
        "  print(\"number first grether thansecond\")\n",
        "else:\n",
        "  print(\"number first less than second\")\n",
        "\n"
      ],
      "metadata": {
        "colab": {
          "base_uri": "https://localhost:8080/"
        },
        "id": "EWZEVXWY6Krn",
        "outputId": "40ae1fa3-3a1a-40e9-bd23-2e903036b7d2"
      },
      "execution_count": null,
      "outputs": [
        {
          "output_type": "stream",
          "name": "stdout",
          "text": [
            "enter the first number =5\n",
            "enter the second number =7\n",
            "not equal to\n",
            "number first less than second\n"
          ]
        }
      ]
    },
    {
      "cell_type": "code",
      "source": [
        "#q4 Check conditions using logical operators.\n",
        "\n",
        "num1 = int(input(\"enter the first number =\"))\n",
        "#num2 = int(input(\"enter the second number =\"))\n",
        "\n",
        "print(num1 > 5 and num1 < 15)\n",
        "print(num1 >3 or num1 < 4)\n",
        "print(not(num1 >3 and num1 < 10))"
      ],
      "metadata": {
        "colab": {
          "base_uri": "https://localhost:8080/"
        },
        "id": "9vPZT6Te8rr2",
        "outputId": "090c305e-bacd-45d2-bc0f-b16754e9e862"
      },
      "execution_count": null,
      "outputs": [
        {
          "output_type": "stream",
          "name": "stdout",
          "text": [
            "enter the first number =5\n",
            "False\n",
            "True\n",
            "False\n"
          ]
        }
      ]
    },
    {
      "cell_type": "code",
      "source": [
        "#q5 Check the identity of variables.\n",
        "num1 = int(input(\"enter the first number =\"))\n",
        "num2 = int(input(\"enter the second number =\"))\n",
        "print(num1 is num2)\n",
        "print(num1 is not num2)\n"
      ],
      "metadata": {
        "colab": {
          "base_uri": "https://localhost:8080/"
        },
        "id": "SMK6zeXECxNo",
        "outputId": "397c97d1-0534-4ac5-ace7-afb13135722d"
      },
      "execution_count": null,
      "outputs": [
        {
          "output_type": "stream",
          "name": "stdout",
          "text": [
            "enter the first number =12\n",
            "enter the second number =34\n",
            "False\n",
            "True\n"
          ]
        }
      ]
    },
    {
      "cell_type": "code",
      "source": [
        "#q6 Perform bitwise operations on any two integers.\n",
        "num1 = int(input(\"enter the first number =\"))\n",
        "num2 = int(input(\"enter the second number =\"))\n",
        "\n",
        "print(num1 and num2)\n",
        "print(num1 or num2)\n",
        "print(not(num1 and num2))\n",
        "\n"
      ],
      "metadata": {
        "colab": {
          "base_uri": "https://localhost:8080/"
        },
        "id": "acNfYtPSFR7G",
        "outputId": "22910bf3-d165-49eb-d0d9-bc3c2a45a008"
      },
      "execution_count": null,
      "outputs": [
        {
          "output_type": "stream",
          "name": "stdout",
          "text": [
            "enter the first number =4\n",
            "enter the second number =6\n",
            "6\n",
            "4\n",
            "False\n"
          ]
        }
      ]
    },
    {
      "cell_type": "code",
      "source": [
        "#q7 Use unary operators to change the sign of a number.\n",
        "\n",
        "j = 3\n",
        "print(-j)"
      ],
      "metadata": {
        "colab": {
          "base_uri": "https://localhost:8080/"
        },
        "id": "3qd8bIoxGfrS",
        "outputId": "a4623331-0444-40f8-e345-f26e119719b0"
      },
      "execution_count": null,
      "outputs": [
        {
          "output_type": "stream",
          "name": "stdout",
          "text": [
            "-3\n"
          ]
        }
      ]
    },
    {
      "cell_type": "code",
      "source": [
        "#q8  Use the ternary operator to assign values based on conditions.\n",
        "\n",
        "age = 18;\n",
        "if age<18:\n",
        "  print(\"minor\")\n",
        "else:\n",
        "  print(\"adult\")"
      ],
      "metadata": {
        "colab": {
          "base_uri": "https://localhost:8080/"
        },
        "id": "0eZrb8ULJYci",
        "outputId": "1ddd03cd-a5dd-449c-ccb3-1bea487cfdb7"
      },
      "execution_count": null,
      "outputs": [
        {
          "output_type": "stream",
          "name": "stdout",
          "text": [
            "adult\n"
          ]
        }
      ]
    }
  ]
}