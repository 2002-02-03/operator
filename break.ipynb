{
  "nbformat": 4,
  "nbformat_minor": 0,
  "metadata": {
    "colab": {
      "provenance": [],
      "authorship_tag": "ABX9TyMElWZhy5AJ3Iw+88/azI1b",
      "include_colab_link": true
    },
    "kernelspec": {
      "name": "python3",
      "display_name": "Python 3"
    },
    "language_info": {
      "name": "python"
    }
  },
  "cells": [
    {
      "cell_type": "markdown",
      "metadata": {
        "id": "view-in-github",
        "colab_type": "text"
      },
      "source": [
        "<a href=\"https://colab.research.google.com/github/2002-02-03/operator/blob/main/break.ipynb\" target=\"_parent\"><img src=\"https://colab.research.google.com/assets/colab-badge.svg\" alt=\"Open In Colab\"/></a>"
      ]
    },
    {
      "cell_type": "code",
      "execution_count": null,
      "metadata": {
        "colab": {
          "base_uri": "https://localhost:8080/"
        },
        "id": "b5Kl-oxslvyd",
        "outputId": "275a546b-e367-49f4-8aab-30b44ae56d42"
      },
      "outputs": [
        {
          "output_type": "stream",
          "name": "stdout",
          "text": [
            "enter the number7\n",
            "1\n",
            "2\n",
            "3\n",
            "4\n"
          ]
        }
      ],
      "source": [
        "#q1  Write a program to print numbers from  1 to 10, but stop if the number is 5.\n",
        "\n",
        "num = int(input(\"enter the number\"))\n",
        "for num in range(1,10):\n",
        "  if num ==5:\n",
        "    break\n",
        "\n",
        "  num = (num)\n",
        "  print(num)\n"
      ]
    },
    {
      "cell_type": "code",
      "source": [
        "#q2 Write a program to iterate through a list and stop when encountering a specific element.\n",
        "\n",
        "\n",
        "lst = [2,3,4,6,\"ram\",5.4]\n",
        "\n",
        "for i in lst:\n",
        "  if i == \"ram\":\n",
        "    break\n",
        "  else:\n",
        "    print(i)\n",
        "\n",
        "\n",
        "\n",
        "\n"
      ],
      "metadata": {
        "colab": {
          "base_uri": "https://localhost:8080/"
        },
        "id": "80Kb7fsRn6TQ",
        "outputId": "965f495c-438b-4d91-fc8d-02e0e9074df3"
      },
      "execution_count": null,
      "outputs": [
        {
          "output_type": "stream",
          "name": "stdout",
          "text": [
            "2\n",
            "3\n",
            "4\n",
            "6\n"
          ]
        }
      ]
    },
    {
      "cell_type": "code",
      "source": [
        "#q3  Write a program to skip printing even numbers from  1 to 10.\n",
        "#i = 0\n",
        "for i in range(1,10):\n",
        "  if i%2==0:\n",
        "    continue\n",
        "\n",
        "  else:\n",
        "    i%2 != 0\n",
        "    print(i)"
      ],
      "metadata": {
        "colab": {
          "base_uri": "https://localhost:8080/"
        },
        "id": "DydYzZ8PxdE2",
        "outputId": "51d69874-0f37-4b21-e8b9-cc045676ef29"
      },
      "execution_count": null,
      "outputs": [
        {
          "output_type": "stream",
          "name": "stdout",
          "text": [
            "1\n",
            "3\n",
            "5\n",
            "7\n",
            "9\n"
          ]
        }
      ]
    },
    {
      "cell_type": "code",
      "source": [
        "#q4 Write a program to print numbers from 0 to 9 using range().\n",
        "num = int(input(\"enter the number\"))\n",
        "for i in range(0,num+1):\n",
        "\n",
        "  print(i)\n",
        "  i+= i\n",
        "\n"
      ],
      "metadata": {
        "colab": {
          "base_uri": "https://localhost:8080/"
        },
        "id": "oSvJj1VsryhT",
        "outputId": "5fb666d1-1735-43bd-f5cd-cb5c9fc1a1f9"
      },
      "execution_count": null,
      "outputs": [
        {
          "output_type": "stream",
          "name": "stdout",
          "text": [
            "enter the number9\n",
            "0\n",
            "1\n",
            "2\n",
            "3\n",
            "4\n",
            "5\n",
            "6\n",
            "7\n",
            "8\n",
            "9\n"
          ]
        }
      ]
    },
    {
      "cell_type": "markdown",
      "source": [],
      "metadata": {
        "id": "u1FTJHNt7XPU"
      }
    },
    {
      "cell_type": "code",
      "source": [
        "num1 = int(input(\"Enter the first number: \"))\n",
        "num2 = int(input(\"Enter the second number: \"))\n",
        "\n",
        "def table(num1, num2):\n",
        "    for i in range(num1, num2 + 1):\n",
        "        print(f\"Multiplication table for {i}:\")\n",
        "        for j in range(1, 11):\n",
        "            product = i * j\n",
        "            if product > 10:\n",
        "               break\n",
        "            print(f\"{i} x {j} = {product}\")\n",
        "\n",
        "table(num1, num2)"
      ],
      "metadata": {
        "colab": {
          "base_uri": "https://localhost:8080/"
        },
        "id": "p0SSDcC7LNNW",
        "outputId": "cc6022fc-36d7-4415-e5c2-edcce7c34e24"
      },
      "execution_count": 3,
      "outputs": [
        {
          "output_type": "stream",
          "name": "stdout",
          "text": [
            "Enter the first number: 1\n",
            "Enter the second number: 10\n",
            "Multiplication table for 1:\n",
            "1 x 1 = 1\n",
            "1 x 2 = 2\n",
            "1 x 3 = 3\n",
            "1 x 4 = 4\n",
            "1 x 5 = 5\n",
            "1 x 6 = 6\n",
            "1 x 7 = 7\n",
            "1 x 8 = 8\n",
            "1 x 9 = 9\n",
            "1 x 10 = 10\n",
            "Multiplication table for 2:\n",
            "2 x 1 = 2\n",
            "2 x 2 = 4\n",
            "2 x 3 = 6\n",
            "2 x 4 = 8\n",
            "2 x 5 = 10\n",
            "Multiplication table for 3:\n",
            "3 x 1 = 3\n",
            "3 x 2 = 6\n",
            "3 x 3 = 9\n",
            "Multiplication table for 4:\n",
            "4 x 1 = 4\n",
            "4 x 2 = 8\n",
            "Multiplication table for 5:\n",
            "5 x 1 = 5\n",
            "5 x 2 = 10\n",
            "Multiplication table for 6:\n",
            "6 x 1 = 6\n",
            "Multiplication table for 7:\n",
            "7 x 1 = 7\n",
            "Multiplication table for 8:\n",
            "8 x 1 = 8\n",
            "Multiplication table for 9:\n",
            "9 x 1 = 9\n",
            "Multiplication table for 10:\n",
            "10 x 1 = 10\n"
          ]
        }
      ]
    },
    {
      "cell_type": "code",
      "source": [
        "#q6 Write a program to skip printing even numbers using a while loop.\n",
        "num = int(input(\"enter the value\"))\n",
        "for i in range(1,num+1):\n",
        "  #i\n",
        "  if i%2 != 0:\n",
        "    print(i)\n",
        "\n",
        ""
      ],
      "metadata": {
        "colab": {
          "base_uri": "https://localhost:8080/"
        },
        "id": "x8EZPcqBLmWx",
        "outputId": "e4443fca-7d67-4b01-8246-d3e654fe63d0"
      },
      "execution_count": 18,
      "outputs": [
        {
          "output_type": "stream",
          "name": "stdout",
          "text": [
            "enter the value10\n",
            "1\n",
            "3\n",
            "5\n",
            "7\n",
            "9\n"
          ]
        }
      ]
    }
  ]
}